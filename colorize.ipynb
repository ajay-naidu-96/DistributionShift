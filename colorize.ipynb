{
 "cells": [
  {
   "cell_type": "code",
   "execution_count": 38,
   "id": "167ef0f9-808c-41cb-96f1-9f6e31ada997",
   "metadata": {},
   "outputs": [],
   "source": [
    "import torchvision\n",
    "import torch\n",
    "import numpy as np\n",
    "import torchvision.transforms as transforms\n",
    "import tqdm\n",
    "from torch.autograd import Variable\n",
    "import argparse\n",
    "import os\n",
    "import matplotlib.pyplot as plt"
   ]
  },
  {
   "cell_type": "code",
   "execution_count": 25,
   "id": "73a3dc30-434a-40bb-9d0a-852f357f9f76",
   "metadata": {},
   "outputs": [],
   "source": [
    "data_path = './Data/'"
   ]
  },
  {
   "cell_type": "code",
   "execution_count": 27,
   "id": "4d859418-6468-4fcf-af6a-5b76aa839a8a",
   "metadata": {},
   "outputs": [],
   "source": [
    "trans = ([transforms.ToTensor()])\n",
    "trans = transforms.Compose(trans)\n",
    "fulltrainset = torchvision.datasets.MNIST(root=data_path, train=True, download=True, transform=trans)\n",
    "trainloader = torch.utils.data.DataLoader(fulltrainset, batch_size=2000, shuffle=False, num_workers=2, pin_memory=True)\n",
    "test_set = torchvision.datasets.MNIST(root=data_path, train=False, download=True, transform=trans)\n",
    "testloader = torch.utils.data.DataLoader(test_set, batch_size=2000, shuffle=False, num_workers=2, pin_memory=True)\n",
    "nb_classes = 10"
   ]
  },
  {
   "cell_type": "code",
   "execution_count": 46,
   "id": "812fa8eb-a26c-42c0-bcb0-439b7263d3a7",
   "metadata": {},
   "outputs": [
    {
     "name": "stdout",
     "output_type": "stream",
     "text": [
      "./Data/cmnist/fgbg_cmnist_cpr0.5-0.5/\n",
      "(2, 10, 3)\n",
      "(2, 10, 3)\n"
     ]
    },
    {
     "name": "stderr",
     "output_type": "stream",
     "text": [
      "100%|██████████| 30/30 [00:15<00:00,  1.89it/s]\n"
     ]
    }
   ],
   "source": [
    "# generate color codes\n",
    "def get_color_codes(cpr):\n",
    "    C = np.random.rand(len(cpr), nb_classes,3)\n",
    "    C = C/np.max(C, axis=2)[:,:,None]\n",
    "    print(C.shape)\n",
    "    return C\n",
    "\n",
    "def gen_fgbgcolor_data(loader, img_size=(3,28,28), cpr=[0.5, 0.5], noise=10.):\n",
    "    if cpr is not None:\n",
    "        assert sum(cpr)==1, '--cpr must be a non-negative list which sums to 1'\n",
    "        Cfg = get_color_codes(cpr)\n",
    "        Cbg = get_color_codes(cpr)\n",
    "    else:\n",
    "        Cfg = get_color_codes([1])\n",
    "        Cbg = get_color_codes([1])\n",
    "    tot_iters =  len(loader)\n",
    "    for i in tqdm.tqdm(range(tot_iters), total=tot_iters):\n",
    "        x, targets = next(iter(loader))\n",
    "        assert len(x.size())==4, 'Something is wrong, size of input x should be 4 dimensional (B x C x H x W; perhaps number of channels is degenrate? If so, it should be 1)'\n",
    "        targets = targets.cpu().numpy()\n",
    "        bs = targets.shape[0]\n",
    "\n",
    "        x = (((x*255)>150)*255).type('torch.FloatTensor')\n",
    "        x_rgb = torch.ones(x.size(0),3, x.size()[2], x.size()[3]).type('torch.FloatTensor')\n",
    "        x_rgb = x_rgb* x\n",
    "        x_rgb_fg = 1.*x_rgb\n",
    "        \n",
    "        color_choice = np.argmax(np.random.multinomial(1, cpr, targets.shape[0]), axis=1) if cpr is not None else 0\n",
    "        c = Cfg[color_choice,targets] if cpr is not None else Cfg[color_choice,np.random.randint(nb_classes, size=targets.shape[0])]\n",
    "        c = c.reshape(-1, 3, 1, 1)\n",
    "        c= torch.from_numpy(c).type('torch.FloatTensor')\n",
    "        x_rgb_fg[:,0] = x_rgb_fg[:,0]* c[:,0]\n",
    "        x_rgb_fg[:,1] = x_rgb_fg[:,1]* c[:,1]\n",
    "        x_rgb_fg[:,2] = x_rgb_fg[:,2]* c[:,2]\n",
    "        \n",
    "        # bg = (255-x_rgb)\n",
    "        # # c = C[targets] if np.random.rand()>cpr else C[np.random.randint(C.shape[0], size=targets.shape[0])]\n",
    "        # color_choice = np.argmax(np.random.multinomial(1, cpr, targets.shape[0]), axis=1) if cpr is not None else 0\n",
    "        # c = Cbg[color_choice,targets] if cpr is not None else Cbg[color_choice,np.random.randint(nb_classes, size=targets.shape[0])]\n",
    "        # c = c.reshape(-1, 3, 1, 1)\n",
    "        # c= torch.from_numpy(c).type('torch.FloatTensor')\n",
    "        # bg[:,0] = bg[:,0]* c[:,0]\n",
    "        # bg[:,1] = bg[:,1]* c[:,1]\n",
    "        # bg[:,2] = bg[:,2]* c[:,2]\n",
    "        # x_rgb = x_rgb_fg + bg\n",
    "\n",
    "        x_rgb = x_rgb_fg\n",
    "        \n",
    "        x_rgb = x_rgb + torch.tensor((noise)* np.random.randn(*x_rgb.size())).type('torch.FloatTensor')\n",
    "        x_rgb = torch.clamp(x_rgb, 0.,255.)\n",
    "        if i==0:\n",
    "            color_data_x = np.zeros((bs* tot_iters, *img_size))\n",
    "            color_data_y = np.zeros((bs* tot_iters,))\n",
    "        color_data_x[i*bs: (i+1)*bs] = x_rgb/255.\n",
    "        color_data_y[i*bs: (i+1)*bs] = targets\n",
    "    return color_data_x, color_data_y\n",
    "\n",
    "dir_name = data_path + 'cmnist/' + 'fgbg_cmnist_cpr' + '-'.join(str(p) for p in [0.5, 0.5]) + '/'\n",
    "print(dir_name)\n",
    "if not os.path.exists(data_path + 'cmnist/'):\n",
    "    os.mkdir(data_path + 'cmnist/')\n",
    "if not os.path.exists(dir_name):\n",
    "    os.mkdir(dir_name)\n",
    "\n",
    "\n",
    "color_data_x, color_data_y = gen_fgbgcolor_data(trainloader, img_size=(3,28,28), noise=10.)\n",
    "np.save(dir_name+ '/train_x.npy', color_data_x)\n",
    "np.save(dir_name+ '/train_y.npy', color_data_y)\n"
   ]
  },
  {
   "cell_type": "code",
   "execution_count": 49,
   "id": "d8498845-9d75-427f-ba3b-6a163f5fbc72",
   "metadata": {},
   "outputs": [
    {
     "name": "stdout",
     "output_type": "stream",
     "text": [
      "(2, 10, 3)\n",
      "(2, 10, 3)\n"
     ]
    },
    {
     "name": "stderr",
     "output_type": "stream",
     "text": [
      "100%|██████████| 5/5 [00:02<00:00,  1.68it/s]\n"
     ]
    }
   ],
   "source": [
    "color_data_x, color_data_y = gen_fgbgcolor_data(testloader, img_size=(3,28,28), noise=10.)\n",
    "np.save(dir_name+ '/test_x.npy', color_data_x)\n",
    "np.save(dir_name+ '/test_y.npy', color_data_y)"
   ]
  },
  {
   "cell_type": "code",
   "execution_count": 50,
   "id": "731ca75b-0795-4923-8664-30762846068e",
   "metadata": {},
   "outputs": [],
   "source": [
    "train_x = np.load('./Data/cmnist/fgbg_cmnist_cpr0.5-0.5/test_x.npy')\n",
    "train_y = np.load('./Data/cmnist/fgbg_cmnist_cpr0.5-0.5/test_y.npy')"
   ]
  },
  {
   "cell_type": "code",
   "execution_count": 51,
   "id": "e33c8d18-67dd-4449-b4d8-19bbf541ab13",
   "metadata": {},
   "outputs": [
    {
     "name": "stdout",
     "output_type": "stream",
     "text": [
      "Displaying a batch of images:\n"
     ]
    },
    {
     "data": {
      "image/png": "[encoded data removed]",
      "text/plain": [
       "<Figure size 640x480 with 1 Axes>"
      ]
     },
     "metadata": {},
     "output_type": "display_data"
    },
    {
     "name": "stdout",
     "output_type": "stream",
     "text": [
      "Labels: [7.0, 2.0, 1.0, 0.0, 4.0, 1.0, 4.0, 9.0, 5.0, 9.0, 0.0, 6.0]\n"
     ]
    }
   ],
   "source": [
    "# Function to unnormalize and display an image\n",
    "def imshow(img):\n",
    "    # Unnormalize the image\n",
    "    img = img * 0.3081 + 0.1307  # Reverse normalization\n",
    "    npimg = img.numpy()  # Convert tensor to numpy\n",
    "    plt.imshow(np.transpose(npimg, (1, 2, 0)))  # Change dimensions for pyplot (HWC format)\n",
    "    plt.axis('off')  # Hide axes\n",
    "    plt.show()\n",
    "\n",
    "\n",
    "images, labels = train_x[:12], train_y[:12]\n",
    "\n",
    "# Convert images to tensors if needed (should already be tensors from DataLoader)\n",
    "if not isinstance(images, torch.Tensor):\n",
    "    images = torch.tensor(images)\n",
    "\n",
    "# Display images in a grid\n",
    "print('Displaying a batch of images:')\n",
    "imshow(torchvision.utils.make_grid(images, nrow=3))  # Show 8 images per row\n",
    "\n",
    "# Print corresponding labels\n",
    "print('Labels:', labels[:16].tolist())  # Print labels for the first 16 images\n"
   ]
  }
 ],
 "metadata": {
  "kernelspec": {
   "display_name": "Python 3 (ipykernel)",
   "language": "python",
   "name": "python3"
  },
  "language_info": {
   "codemirror_mode": {
    "name": "ipython",
    "version": 3
   },
   "file_extension": ".py",
   "mimetype": "text/x-python",
   "name": "python",
   "nbconvert_exporter": "python",
   "pygments_lexer": "ipython3",
   "version": "3.10.13"
  }
 },
 "nbformat": 4,
 "nbformat_minor": 5
}
